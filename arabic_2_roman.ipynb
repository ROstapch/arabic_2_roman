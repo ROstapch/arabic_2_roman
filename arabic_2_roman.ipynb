{
  "nbformat": 4,
  "nbformat_minor": 0,
  "metadata": {
    "colab": {
      "name": "arabic_2_roman.ipynb",
      "provenance": [],
      "collapsed_sections": [],
      "authorship_tag": "ABX9TyNzH1S5Csapt0Kw/rsHy7MI",
      "include_colab_link": true
    },
    "kernelspec": {
      "name": "python3",
      "display_name": "Python 3"
    }
  },
  "cells": [
    {
      "cell_type": "markdown",
      "metadata": {
        "id": "view-in-github",
        "colab_type": "text"
      },
      "source": [
        "<a href=\"https://colab.research.google.com/github/ROstapch/arabic_2_roman/blob/main/arabic_2_roman.ipynb\" target=\"_parent\"><img src=\"https://colab.research.google.com/assets/colab-badge.svg\" alt=\"Open In Colab\"/></a>"
      ]
    },
    {
      "cell_type": "code",
      "metadata": {
        "id": "L3jlE6VSj8DK",
        "colab": {
          "base_uri": "https://localhost:8080/"
        },
        "outputId": "5b859ea6-eb75-4ae6-ac62-e02874b4c5ec"
      },
      "source": [
        "def convert_2_romans(number):\r\n",
        "  roman_tens = [\r\n",
        "                  \"I\",  # 1\r\n",
        "                  \"X\",  # 10\r\n",
        "                  \"C\",  # 100\r\n",
        "                  \"M\",  # 1.000\r\n",
        "                  \"X̅\", # 10.000\r\n",
        "                  \"C̅\", # 100.000\r\n",
        "                  \"M̅\"] # 1.000.000\r\n",
        "\r\n",
        "  roman_fives = [\r\n",
        "                  \"V\",  # 5\r\n",
        "                  \"L\",  # 50\r\n",
        "                  \"D\",  # 500\r\n",
        "                  \"V̅\", # 5.000\r\n",
        "                  \"L̅\", # 50.000\r\n",
        "                  \"D̅\"] # 500.000\r\n",
        "\r\n",
        "  num_str = str(number)[::-1]\r\n",
        "  roman_numb = \"\"\r\n",
        "  for index, subnum_str in zip(range(len(num_str)), num_str):\r\n",
        "    subnum = int(subnum_str)\r\n",
        "    if (subnum < 4):\r\n",
        "      roman_numb += roman_tens[index] * subnum\r\n",
        "    elif (subnum == 4):\r\n",
        "      roman_numb += roman_tens[index] + roman_fives[index + 1]\r\n",
        "    elif (subnum == 9):\r\n",
        "      if (index ==3):\r\n",
        "        roman_numb += \"X̅I̅\" #only special case for 9000\r\n",
        "      else:\r\n",
        "        roman_numb += roman_tens[index + 1] + roman_tens[index]\r\n",
        "    elif (subnum >= 5):\r\n",
        "      roman_numb += roman_tens[index] * (subnum - 5) + roman_fives[index]\r\n",
        "\r\n",
        "  print(roman_numb[::-1])\r\n",
        "\r\n",
        "\r\n",
        "convert_2_romans(399999)"
      ],
      "execution_count": null,
      "outputs": [
        {
          "output_type": "stream",
          "text": [
            "̅C̅C̅C̅X̅C̅I̅XCMXCIX\n"
          ],
          "name": "stdout"
        }
      ]
    },
    {
      "cell_type": "code",
      "metadata": {
        "id": "LDrRJiy5vXUR"
      },
      "source": [
        ""
      ],
      "execution_count": null,
      "outputs": []
    }
  ]
}